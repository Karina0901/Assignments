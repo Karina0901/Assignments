{
 "cells": [
  {
   "cell_type": "code",
   "execution_count": 1,
   "id": "4f1cb0a7-138e-47d2-8208-19558aabe066",
   "metadata": {},
   "outputs": [
    {
     "name": "stderr",
     "output_type": "stream",
     "text": [
      "[nltk_data] Downloading package punkt to\n",
      "[nltk_data]     C:\\Users\\hp\\AppData\\Roaming\\nltk_data...\n",
      "[nltk_data]   Package punkt is already up-to-date!\n"
     ]
    },
    {
     "name": "stdout",
     "output_type": "stream",
     "text": [
      "Sentences: ['NLP is fascinating.', 'It helps machines understand human language.']\n",
      "Words: ['NLP', 'is', 'fascinating', '.', 'It', 'helps', 'machines', 'understand', 'human', 'language', '.']\n"
     ]
    }
   ],
   "source": [
    "from nltk.tokenize import word_tokenize, sent_tokenize\n",
    "import nltk\n",
    "\n",
    "nltk.download('punkt')\n",
    "\n",
    "def tokenize_text(paragraph):\n",
    "    sentences = sent_tokenize(paragraph)\n",
    "    words = word_tokenize(paragraph)\n",
    "    print(\"Sentences:\", sentences)\n",
    "    print(\"Words:\", words)\n",
    "\n",
    "# Test\n",
    "text = \"NLP is fascinating. It helps machines understand human language.\"\n",
    "tokenize_text(text)"
   ]
  },
  {
   "cell_type": "code",
   "execution_count": null,
   "id": "442929a8-f7c8-4e9f-8677-193e318b1498",
   "metadata": {},
   "outputs": [],
   "source": []
  }
 ],
 "metadata": {
  "kernelspec": {
   "display_name": "Python [conda env:base] *",
   "language": "python",
   "name": "conda-base-py"
  },
  "language_info": {
   "codemirror_mode": {
    "name": "ipython",
    "version": 3
   },
   "file_extension": ".py",
   "mimetype": "text/x-python",
   "name": "python",
   "nbconvert_exporter": "python",
   "pygments_lexer": "ipython3",
   "version": "3.12.7"
  }
 },
 "nbformat": 4,
 "nbformat_minor": 5
}
