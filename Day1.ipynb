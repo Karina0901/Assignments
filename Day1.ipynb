{
 "cells": [
  {
   "cell_type": "code",
   "execution_count": 1,
   "id": "49f6ff6e-ddee-400d-9ede-ba12f666a53b",
   "metadata": {},
   "outputs": [
    {
     "name": "stdout",
     "output_type": "stream",
     "text": [
      "Integer variable:\n",
      "Value: 42\n",
      "Type: <class 'int'>\n",
      "\n",
      "Float variable:\n",
      "Value: 3.14\n",
      "Type: <class 'float'>\n",
      "\n",
      "String variable:\n",
      "Value: Hello, Jupyter!\n",
      "Type: <class 'str'>\n",
      "\n",
      "Boolean variable:\n",
      "Value: True\n",
      "Type: <class 'bool'>\n"
     ]
    }
   ],
   "source": [
    "# Declare variables of different data types\n",
    "integer_var = 42\n",
    "float_var = 3.14\n",
    "string_var = \"Hello, Jupyter!\"\n",
    "boolean_var = True\n",
    "\n",
    "# Print each variable and its type\n",
    "print(\"Integer variable:\")\n",
    "print(\"Value:\", integer_var)\n",
    "print(\"Type:\", type(integer_var))\n",
    "\n",
    "print(\"\\nFloat variable:\")\n",
    "print(\"Value:\", float_var)\n",
    "print(\"Type:\", type(float_var))\n",
    "\n",
    "print(\"\\nString variable:\")\n",
    "print(\"Value:\", string_var)\n",
    "print(\"Type:\", type(string_var))\n",
    "\n",
    "print(\"\\nBoolean variable:\")\n",
    "print(\"Value:\", boolean_var)\n",
    "print(\"Type:\", type(boolean_var))\n"
   ]
  },
  {
   "cell_type": "code",
   "execution_count": null,
   "id": "6e1a4e5c-29a2-4842-afee-cfbe43fa671d",
   "metadata": {},
   "outputs": [],
   "source": []
  }
 ],
 "metadata": {
  "kernelspec": {
   "display_name": "Python [conda env:base] *",
   "language": "python",
   "name": "conda-base-py"
  },
  "language_info": {
   "codemirror_mode": {
    "name": "ipython",
    "version": 3
   },
   "file_extension": ".py",
   "mimetype": "text/x-python",
   "name": "python",
   "nbconvert_exporter": "python",
   "pygments_lexer": "ipython3",
   "version": "3.12.7"
  }
 },
 "nbformat": 4,
 "nbformat_minor": 5
}
