{
 "cells": [
  {
   "cell_type": "code",
   "execution_count": null,
   "id": "78191d9d-5eee-4ca4-8225-c761323d4d41",
   "metadata": {},
   "outputs": [],
   "source": [
    "from gensim.parsing.preprocessing import preprocess_string, strip_punctuation, strip_numeric, remove_stopwords\n",
    "from gensim.utils import simple_preprocess\n",
    "\n",
    "def preprocess_data(text):\n",
    "    custom_filters = [strip_punctuation, strip_numeric, remove_stopwords]\n",
    "    processed_text = preprocess_string(text, filters=custom_filters)\n",
    "    print(\"Processed Text:\", processed_text)\n",
    "\n",
    "# Test\n",
    "text = \"Natural Language Processing is amazing, isn't it? Let's explore more about NLP.\"\n",
    "preprocess_data(text)\n"
   ]
  }
 ],
 "metadata": {
  "kernelspec": {
   "display_name": "Python [conda env:base] *",
   "language": "python",
   "name": "conda-base-py"
  },
  "language_info": {
   "codemirror_mode": {
    "name": "ipython",
    "version": 3
   },
   "file_extension": ".py",
   "mimetype": "text/x-python",
   "name": "python",
   "nbconvert_exporter": "python",
   "pygments_lexer": "ipython3",
   "version": "3.12.7"
  }
 },
 "nbformat": 4,
 "nbformat_minor": 5
}
